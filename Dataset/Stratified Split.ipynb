{
 "cells": [
  {
   "cell_type": "code",
   "execution_count": 1,
   "metadata": {},
   "outputs": [],
   "source": [
    "import pandas as pd\n",
    "import os\n",
    "import glob"
   ]
  },
  {
   "cell_type": "code",
   "execution_count": 2,
   "metadata": {},
   "outputs": [],
   "source": [
    "load_path = 'full_data'"
   ]
  },
  {
   "cell_type": "code",
   "execution_count": 3,
   "metadata": {},
   "outputs": [],
   "source": [
    "columns = ['text','label']"
   ]
  },
  {
   "cell_type": "code",
   "execution_count": 4,
   "metadata": {},
   "outputs": [],
   "source": [
    "if not os.path.exists('train'):\n",
    "    os.makedirs('train')\n",
    "if not os.path.exists('val'):\n",
    "    os.makedirs('val')\n",
    "if not os.path.exists('test'):\n",
    "    os.makedirs('test')"
   ]
  },
  {
   "cell_type": "code",
   "execution_count": 5,
   "metadata": {},
   "outputs": [],
   "source": [
    "for filename in os.listdir(load_path):\n",
    "    df = pd.read_csv(os.path.join(load_path,filename))\n",
    "    df = df[columns]\n",
    "    train_df_ids = list(pd.read_csv('ID Mapping/train/'+filename)['id'])\n",
    "    train_df = df.iloc[train_df_ids]\n",
    "    train_df.to_csv('train/'+filename,index=False)\n",
    "    val_df_ids = list(pd.read_csv('ID Mapping/val/'+filename)['id'])\n",
    "    val_df = df.iloc[val_df_ids]\n",
    "    val_df.to_csv('val/'+filename,index=False)\n",
    "    test_df_ids = list(pd.read_csv('ID Mapping/test/'+filename)['id'])\n",
    "    test_df = df.iloc[test_df_ids]\n",
    "    test_df.to_csv('test/'+filename,index=False)"
   ]
  }
 ],
 "metadata": {
  "kernelspec": {
   "display_name": "Python 3",
   "language": "python",
   "name": "python3"
  },
  "language_info": {
   "codemirror_mode": {
    "name": "ipython",
    "version": 3
   },
   "file_extension": ".py",
   "mimetype": "text/x-python",
   "name": "python",
   "nbconvert_exporter": "python",
   "pygments_lexer": "ipython3",
   "version": "3.7.3"
  }
 },
 "nbformat": 4,
 "nbformat_minor": 2
}
